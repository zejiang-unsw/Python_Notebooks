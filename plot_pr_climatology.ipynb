{
 "cells": [
  {
   "cell_type": "code",
   "execution_count": 1,
   "metadata": {},
   "outputs": [],
   "source": [
    "import argparse\n",
    "import xarray as xr\n",
    "import matplotlib.pyplot as plt\n",
    "import cartopy.crs as ccrs\n",
    "import numpy as np\n",
    "import cmocean\n",
    "\n"
   ]
  },
  {
   "cell_type": "code",
   "execution_count": 4,
   "metadata": {},
   "outputs": [],
   "source": [
    "\n",
    "def convert_pr_units(darray):\n",
    "    \"\"\"Convert kg m-2 s-1 to mm day-1.\n",
    "    \n",
    "    Args:\n",
    "      darray (xarray.DataArray): Precipitation data\n",
    "    \n",
    "    \"\"\"\n",
    "    \n",
    "    darray.data = darray.data * 86400\n",
    "    darray.attrs['units'] = 'mm/day'\n",
    "    \n",
    "    return darray\n",
    "\n",
    "\n",
    "def create_plot(clim, model_name, season, gridlines=False,levels=None):\n",
    "    \"\"\"Plot the precipitation climatology.\n",
    "    \n",
    "    Args:\n",
    "      clim (xarray.DataArray): Precipitation climatology data\n",
    "      model_name (str): Name of the climate model\n",
    "      season (str): Season\n",
    "      \n",
    "    Kwargs:\n",
    "      gridlines (bool): Select whether to plot gridlines\n",
    "      levels (list): Tick marks on the colorbar \n",
    "    \n",
    "    \"\"\"\n",
    "    levels = np.arange(0, 13.5, 1.5)\n",
    "        \n",
    "    fig = plt.figure(figsize=[12,5])\n",
    "    #\"111\" means \"1x1 grid, first subplot\" and \"234\" means \"2x3 grid, 4th subplot\".\n",
    "    ax = fig.add_subplot(111, projection=ccrs.PlateCarree(central_longitude=180)) \n",
    "    clim.sel(season=season).plot.contourf(ax=ax,\n",
    "                                          levels=levels,\n",
    "                                          extend='max',\n",
    "                                          transform=ccrs.PlateCarree(),\n",
    "                                          cbar_kwargs={'label': clim.units},\n",
    "                                          cmap=cmocean.cm.haline_r)\n",
    "    ax.coastlines()\n",
    "    if gridlines:\n",
    "        plt.gca().gridlines()\n",
    "    \n",
    "    title = '%s precipitation climatology (%s)' %(model_name, season)\n",
    "    plt.title(title)\n",
    "\n",
    "\n",
    "def main(inargs):\n",
    "    \"\"\"Run the program.\"\"\"\n",
    "\n",
    "    dset = xr.open_dataset(inargs.pr_file)\n",
    "    \n",
    "    clim = dset['pr'].groupby('time.season').mean('time', keep_attrs=True)\n",
    "    clim = convert_pr_units(clim)\n",
    "\n",
    "    create_plot(clim, dset.attrs['model_id'], inargs.season, inargs.gridlines, levels=inargs.cbar_levels)\n",
    "    plt.savefig(inargs.output_file, dpi=200)\n",
    "\n",
    "\n",
    "\n",
    "    "
   ]
  },
  {
   "cell_type": "code",
   "execution_count": 5,
   "metadata": {},
   "outputs": [
    {
     "name": "stderr",
     "output_type": "stream",
     "text": [
      "usage: ipykernel_launcher.py [-h] [--gridlines]\n",
      "                             [--cbar_levels [CBAR_LEVELS [CBAR_LEVELS ...]]]\n",
      "                             pr_file {DJF,MAM,JJA,SON} output_file\n",
      "ipykernel_launcher.py: error: the following arguments are required: season, output_file\n"
     ]
    },
    {
     "ename": "SystemExit",
     "evalue": "2",
     "output_type": "error",
     "traceback": [
      "An exception has occurred, use %tb to see the full traceback.\n",
      "\u001b[1;31mSystemExit\u001b[0m\u001b[1;31m:\u001b[0m 2\n"
     ]
    }
   ],
   "source": [
    "if __name__ == '__main__':\n",
    "    description='Plot the precipitation climatology.'\n",
    "    parser = argparse.ArgumentParser(description=description)\n",
    "    \n",
    "    parser.add_argument(\"pr_file\", type=str, help=\"Precipitation data file\")\n",
    "    parser.add_argument(\"season\", type=str, choices=['DJF', 'MAM', 'JJA', 'SON'], help=\"Season to plot\")\n",
    "    parser.add_argument(\"output_file\", type=str, help=\"Output file name\")\n",
    "    parser.add_argument(\"--gridlines\", action=\"store_true\", default=False,\n",
    "                        help=\"Include gridlines on the plot\")\n",
    "    parser.add_argument(\"--cbar_levels\", type=float, nargs='*', default=None,\n",
    "                        help='list of levels / tick marks to appear on the colorbar')\n",
    "\n",
    "    args = parser.parse_args()\n",
    "    \n",
    "    main(args)"
   ]
  },
  {
   "cell_type": "code",
   "execution_count": 11,
   "metadata": {},
   "outputs": [
    {
     "ename": "TypeError",
     "evalue": "main() missing 1 required positional argument: 'inargs'",
     "output_type": "error",
     "traceback": [
      "\u001b[1;31m---------------------------------------------------------------------------\u001b[0m",
      "\u001b[1;31mTypeError\u001b[0m                                 Traceback (most recent call last)",
      "\u001b[1;32m<ipython-input-11-263240bbee7e>\u001b[0m in \u001b[0;36m<module>\u001b[1;34m\u001b[0m\n\u001b[1;32m----> 1\u001b[1;33m \u001b[0mmain\u001b[0m\u001b[1;33m(\u001b[0m\u001b[1;33m)\u001b[0m\u001b[1;33m\u001b[0m\u001b[1;33m\u001b[0m\u001b[0m\n\u001b[0m",
      "\u001b[1;31mTypeError\u001b[0m: main() missing 1 required positional argument: 'inargs'"
     ]
    }
   ],
   "source": []
  },
  {
   "cell_type": "code",
   "execution_count": null,
   "metadata": {},
   "outputs": [],
   "source": []
  }
 ],
 "metadata": {
  "kernelspec": {
   "display_name": "Python 3",
   "language": "python",
   "name": "python3"
  },
  "language_info": {
   "codemirror_mode": {
    "name": "ipython",
    "version": 3
   },
   "file_extension": ".py",
   "mimetype": "text/x-python",
   "name": "python",
   "nbconvert_exporter": "python",
   "pygments_lexer": "ipython3",
   "version": "3.7.1"
  }
 },
 "nbformat": 4,
 "nbformat_minor": 2
}
